{
  "nbformat": 4,
  "nbformat_minor": 0,
  "metadata": {
    "colab": {
      "provenance": [],
      "authorship_tag": "ABX9TyMAubmunG2Qyz+m4GYAoGm9",
      "include_colab_link": true
    },
    "kernelspec": {
      "name": "python3",
      "display_name": "Python 3"
    },
    "language_info": {
      "name": "python"
    }
  },
  "cells": [
    {
      "cell_type": "markdown",
      "metadata": {
        "id": "view-in-github",
        "colab_type": "text"
      },
      "source": [
        "<a href=\"https://colab.research.google.com/github/JuseongA/juseong/blob/main/Untitled0.ipynb\" target=\"_parent\"><img src=\"https://colab.research.google.com/assets/colab-badge.svg\" alt=\"Open In Colab\"/></a>"
      ]
    },
    {
      "cell_type": "code",
      "execution_count": 3,
      "metadata": {
        "colab": {
          "base_uri": "https://localhost:8080/"
        },
        "id": "cJyt4q-H4m-e",
        "outputId": "17906a04-5f3a-4a6b-d643-5cfc11295569"
      },
      "outputs": [
        {
          "output_type": "stream",
          "name": "stdout",
          "text": [
            "a는 1보다 큽니다.\n"
          ]
        }
      ],
      "source": [
        "a =3\n",
        "if a > 1:\n",
        "  print(\"a는 1보다 큽니다.\")\n"
      ]
    },
    {
      "cell_type": "code",
      "source": [
        "z = 0\n",
        "for a in (1,2,3):\n",
        "  z = z + a\n",
        "  print(f\"a = {a} , z = {z:3d}\")"
      ],
      "metadata": {
        "colab": {
          "base_uri": "https://localhost:8080/"
        },
        "id": "ttH7kfEF-tBB",
        "outputId": "7b0b185f-a77c-44ba-8c1e-a43e5ff36ab5"
      },
      "execution_count": 4,
      "outputs": [
        {
          "output_type": "stream",
          "name": "stdout",
          "text": [
            "a = 1 , z =   1\n",
            "a = 2 , z =   3\n",
            "a = 3 , z =   6\n"
          ]
        }
      ]
    },
    {
      "cell_type": "code",
      "source": [
        "b = 0\n",
        "for a in range(1,101):\n",
        "  b = a + b\n",
        "print(b)"
      ],
      "metadata": {
        "colab": {
          "base_uri": "https://localhost:8080/"
        },
        "id": "dKxLzRTiAHwA",
        "outputId": "320b3cc7-7f4d-4933-f402-52037ccbc723"
      },
      "execution_count": 22,
      "outputs": [
        {
          "output_type": "stream",
          "name": "stdout",
          "text": [
            "5050\n"
          ]
        }
      ]
    },
    {
      "cell_type": "code",
      "source": [
        "for i in range(1,33):\n",
        "  print(\"dec %2d oct %2o hex %2x\" % (i, i , i))"
      ],
      "metadata": {
        "colab": {
          "base_uri": "https://localhost:8080/"
        },
        "id": "CoVOB0MDHJSK",
        "outputId": "cecc6bbd-9089-4296-acf4-041723825f1c"
      },
      "execution_count": 37,
      "outputs": [
        {
          "output_type": "stream",
          "name": "stdout",
          "text": [
            "dec  1 oct  1 hex  1\n",
            "dec  2 oct  2 hex  2\n",
            "dec  3 oct  3 hex  3\n",
            "dec  4 oct  4 hex  4\n",
            "dec  5 oct  5 hex  5\n",
            "dec  6 oct  6 hex  6\n",
            "dec  7 oct  7 hex  7\n",
            "dec  8 oct 10 hex  8\n",
            "dec  9 oct 11 hex  9\n",
            "dec 10 oct 12 hex  a\n",
            "dec 11 oct 13 hex  b\n",
            "dec 12 oct 14 hex  c\n",
            "dec 13 oct 15 hex  d\n",
            "dec 14 oct 16 hex  e\n",
            "dec 15 oct 17 hex  f\n",
            "dec 16 oct 20 hex 10\n",
            "dec 17 oct 21 hex 11\n",
            "dec 18 oct 22 hex 12\n",
            "dec 19 oct 23 hex 13\n",
            "dec 20 oct 24 hex 14\n",
            "dec 21 oct 25 hex 15\n",
            "dec 22 oct 26 hex 16\n",
            "dec 23 oct 27 hex 17\n",
            "dec 24 oct 30 hex 18\n",
            "dec 25 oct 31 hex 19\n",
            "dec 26 oct 32 hex 1a\n",
            "dec 27 oct 33 hex 1b\n",
            "dec 28 oct 34 hex 1c\n",
            "dec 29 oct 35 hex 1d\n",
            "dec 30 oct 36 hex 1e\n",
            "dec 31 oct 37 hex 1f\n",
            "dec 32 oct 40 hex 20\n"
          ]
        }
      ]
    },
    {
      "cell_type": "code",
      "source": [
        "age = 24\n",
        "name = abc\n",
        "print(f\"name\")"
      ],
      "metadata": {
        "colab": {
          "base_uri": "https://localhost:8080/",
          "height": 221
        },
        "id": "LbqKy8liMFvB",
        "outputId": "581de428-88a7-4435-c818-1e97591cec6f"
      },
      "execution_count": 38,
      "outputs": [
        {
          "output_type": "error",
          "ename": "NameError",
          "evalue": "ignored",
          "traceback": [
            "\u001b[0;31m---------------------------------------------------------------------------\u001b[0m",
            "\u001b[0;31mNameError\u001b[0m                                 Traceback (most recent call last)",
            "\u001b[0;32m<ipython-input-38-8fa5d66474e8>\u001b[0m in \u001b[0;36m<cell line: 2>\u001b[0;34m()\u001b[0m\n\u001b[1;32m      1\u001b[0m \u001b[0mage\u001b[0m \u001b[0;34m=\u001b[0m \u001b[0;36m24\u001b[0m\u001b[0;34m\u001b[0m\u001b[0;34m\u001b[0m\u001b[0m\n\u001b[0;32m----> 2\u001b[0;31m \u001b[0mname\u001b[0m \u001b[0;34m=\u001b[0m \u001b[0mabc\u001b[0m\u001b[0;34m\u001b[0m\u001b[0;34m\u001b[0m\u001b[0m\n\u001b[0m\u001b[1;32m      3\u001b[0m \u001b[0mprint\u001b[0m\u001b[0;34m(\u001b[0m\u001b[0;34mf\"name\"\u001b[0m\u001b[0;34m)\u001b[0m\u001b[0;34m\u001b[0m\u001b[0;34m\u001b[0m\u001b[0m\n",
            "\u001b[0;31mNameError\u001b[0m: name 'abc' is not defined"
          ]
        }
      ]
    }
  ]
}